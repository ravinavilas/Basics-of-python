{
 "cells": [
  {
   "cell_type": "code",
   "execution_count": 1,
   "id": "b10b8010",
   "metadata": {},
   "outputs": [
    {
     "name": "stdout",
     "output_type": "stream",
     "text": [
      "ML\n",
      "AI\n"
     ]
    }
   ],
   "source": [
    "\n",
    "def f1():\n",
    "    global y\n",
    "    y=\"ML\"\n",
    "    z=\"AI\"   #local variable\n",
    "    print(y)\n",
    "    print(z)\n",
    "f1()"
   ]
  },
  {
   "cell_type": "code",
   "execution_count": 2,
   "id": "55528e6b",
   "metadata": {},
   "outputs": [
    {
     "name": "stdout",
     "output_type": "stream",
     "text": [
      "23\n",
      "ML\n"
     ]
    }
   ],
   "source": [
    "z=23\n",
    "print(z)\n",
    "print(y)"
   ]
  },
  {
   "cell_type": "code",
   "execution_count": 3,
   "id": "8b906ec6",
   "metadata": {},
   "outputs": [
    {
     "name": "stdout",
     "output_type": "stream",
     "text": [
      "ML\n",
      "AI\n"
     ]
    }
   ],
   "source": [
    "def f1():\n",
    "    global y\n",
    "    x=\"python\"\n",
    "    y=\"ML\"\n",
    "    z=\"AI\"   #local variable\n",
    "    print(y)\n",
    "    print(z)\n",
    "f1()"
   ]
  },
  {
   "cell_type": "code",
   "execution_count": 5,
   "id": "d77b2ae3",
   "metadata": {},
   "outputs": [
    {
     "name": "stdout",
     "output_type": "stream",
     "text": [
      "23\n",
      "ML\n"
     ]
    }
   ],
   "source": [
    "z=23\n",
    "print(z)\n",
    "print(y)"
   ]
  },
  {
   "cell_type": "code",
   "execution_count": 7,
   "id": "0ebae7d5",
   "metadata": {},
   "outputs": [
    {
     "data": {
      "text/plain": [
       "'Ravina Sonawane '"
      ]
     },
     "execution_count": 7,
     "metadata": {},
     "output_type": "execute_result"
    }
   ],
   "source": [
    "name=\"Ravina \"\n",
    "Surname=\"Sonawane \"\n",
    "name + Surname"
   ]
  },
  {
   "cell_type": "code",
   "execution_count": 15,
   "id": "e82c6de0",
   "metadata": {},
   "outputs": [
    {
     "name": "stdout",
     "output_type": "stream",
     "text": [
      "2\n",
      "312.0\n",
      "(2.3+0j)\n",
      "(312+0j)\n"
     ]
    }
   ],
   "source": [
    "a=2.3\n",
    "b=312\n",
    "c=3j\n",
    "print(int(a))\n",
    "print(float(b))\n",
    "print(complex(a))\n",
    "print(complex(b))"
   ]
  },
  {
   "cell_type": "code",
   "execution_count": 1,
   "id": "0e44022d",
   "metadata": {},
   "outputs": [
    {
     "name": "stdout",
     "output_type": "stream",
     "text": [
      "5\n",
      "<class 'int'>\n",
      "Good Day!\n",
      "<class 'str'>\n",
      "global\n",
      "<class 'str'>\n"
     ]
    }
   ],
   "source": [
    "x, y, z = 5, \"Good Day!\", \"global\"\n",
    "print(x)\n",
    "print(type(x))\n",
    "print(y)\n",
    "print(type(y))\n",
    "print(z)\n",
    "print(type(z)) "
   ]
  },
  {
   "cell_type": "code",
   "execution_count": 3,
   "id": "a07a5532",
   "metadata": {},
   "outputs": [
    {
     "name": "stdout",
     "output_type": "stream",
     "text": [
      "1.0\n",
      "2\n",
      "(1+0j)\n",
      "<class 'float'>\n",
      "<class 'int'>\n",
      "<class 'complex'>\n"
     ]
    }
   ],
   "source": [
    "x = 1 # int\n",
    "y = 2.8 # float\n",
    "z = 1j # complex\n",
    "\n",
    "#convert from int to float:\n",
    "a = float(x)\n",
    "#convert from float to int:\n",
    "b = int(y)\n",
    "#convert from int to complex:\n",
    "c = complex(x)\n",
    "\n",
    "print(a)\n",
    "print(b)\n",
    "print(c)\n",
    "\n",
    "print(type(a))\n",
    "print(type(b))\n",
    "print(type(c))"
   ]
  },
  {
   "cell_type": "code",
   "execution_count": 4,
   "id": "cc746866",
   "metadata": {},
   "outputs": [
    {
     "name": "stdout",
     "output_type": "stream",
     "text": [
      "Hello\n",
      "Future is AI\n",
      "I love programming\n"
     ]
    }
   ],
   "source": [
    "a = 'Hello'\n",
    "print(a)\n",
    "\n",
    "b = \"Future is AI\"\n",
    "print(b )\n",
    "\n",
    "c = 'I love programming'\n",
    "print(c)"
   ]
  },
  {
   "cell_type": "code",
   "execution_count": 5,
   "id": "0e111d1d",
   "metadata": {},
   "outputs": [
    {
     "name": "stdout",
     "output_type": "stream",
     "text": [
      "Hi how are you?    from where their.\n",
      "  hi how are you?    from where their. \n",
      "  HI HOW ARE YOU?    FROM WHERE THEIR. \n",
      "  Hi hJw are yJu?    frJm where their. \n",
      "['  Hi h', 'w are y', 'u?    fr', 'm where their. ']\n"
     ]
    }
   ],
   "source": [
    "a=\"  Hi how are you?    from where their. \"\n",
    "print(a.strip())\n",
    "print(a.lower())\n",
    "print(a.upper())\n",
    "print(a.replace(\"o\", \"J\"))\n",
    "print(a.split(\"o\"))"
   ]
  },
  {
   "cell_type": "code",
   "execution_count": null,
   "id": "79c461cf",
   "metadata": {},
   "outputs": [],
   "source": []
  }
 ],
 "metadata": {
  "kernelspec": {
   "display_name": "Python 3 (ipykernel)",
   "language": "python",
   "name": "python3"
  },
  "language_info": {
   "codemirror_mode": {
    "name": "ipython",
    "version": 3
   },
   "file_extension": ".py",
   "mimetype": "text/x-python",
   "name": "python",
   "nbconvert_exporter": "python",
   "pygments_lexer": "ipython3",
   "version": "3.8.12"
  }
 },
 "nbformat": 4,
 "nbformat_minor": 5
}
