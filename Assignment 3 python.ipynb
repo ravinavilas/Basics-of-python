{
 "cells": [
  {
   "cell_type": "code",
   "execution_count": 1,
   "id": "859f1658",
   "metadata": {},
   "outputs": [
    {
     "data": {
      "text/plain": [
       "10"
      ]
     },
     "execution_count": 1,
     "metadata": {},
     "output_type": "execute_result"
    }
   ],
   "source": [
    "#Question 17 length\n",
    "string=\"Statistics\"\n",
    "len(string)"
   ]
  },
  {
   "cell_type": "code",
   "execution_count": 2,
   "id": "13eafdce",
   "metadata": {},
   "outputs": [
    {
     "name": "stdout",
     "output_type": "stream",
     "text": [
      "Enter the string:start\n",
      "No\n"
     ]
    }
   ],
   "source": [
    "#Question 18 for 'Start'\n",
    "def isPalindrome(s):\n",
    "    return s == s[::-1]\n",
    " \n",
    " \n",
    "# Driver code\n",
    "s = input(\"Enter the string:\")\n",
    "ans = isPalindrome(s)\n",
    " \n",
    "if ans:\n",
    "    print(\"Yes\")\n",
    "else:\n",
    "    print(\"No\")"
   ]
  },
  {
   "cell_type": "code",
   "execution_count": 3,
   "id": "732c72d5",
   "metadata": {},
   "outputs": [
    {
     "name": "stdout",
     "output_type": "stream",
     "text": [
      "Enter the string:madam\n",
      "Yes\n"
     ]
    }
   ],
   "source": [
    "#Question 18 for 'Madam'\n",
    "def isPalindrome(s):\n",
    "    return s == s[::-1]\n",
    " \n",
    " \n",
    "# Driver code\n",
    "s = input(\"Enter the string:\")\n",
    "ans = isPalindrome(s)\n",
    " \n",
    "if ans:\n",
    "    print(\"Yes\")\n",
    "else:\n",
    "    print(\"No\")"
   ]
  },
  {
   "cell_type": "code",
   "execution_count": 4,
   "id": "aaf45ac5",
   "metadata": {},
   "outputs": [
    {
     "name": "stdout",
     "output_type": "stream",
     "text": [
      "['S', 't', 'a', 't', 'i', 's', 't', 'i', 'c', 's']\n",
      "S has occurred 1 times\n",
      "t has occurred 3 times\n",
      "a has occurred 1 times\n",
      "t has occurred 3 times\n",
      "i has occurred 2 times\n",
      "s has occurred 2 times\n",
      "t has occurred 3 times\n",
      "i has occurred 2 times\n",
      "c has occurred 1 times\n",
      "s has occurred 2 times\n"
     ]
    }
   ],
   "source": [
    "#Question 19\n",
    "def Convert(string):\n",
    "    list1=[]\n",
    "    list1[:0]=string\n",
    "    return list1\n",
    "\n",
    "\n",
    "def count_occur(list1,x):\n",
    "    count = 0\n",
    "    for ele in list1:\n",
    "        if (ele == x):\n",
    "            count = count + 1\n",
    "    return count\n",
    "\n",
    "# Driver code\n",
    "str1=\"Statistics\"\n",
    "list=Convert(str1)\n",
    "print(Convert(str1))\n",
    "\n",
    "for i in range(len(list)):\n",
    "  \n",
    "    print('{} has occurred {} times'.format(list[i], count_occur(list, list[i])))\n"
   ]
  },
  {
   "cell_type": "code",
   "execution_count": 5,
   "id": "2f768628",
   "metadata": {},
   "outputs": [
    {
     "name": "stdout",
     "output_type": "stream",
     "text": [
      "Please Enter Your Own Character : b\n",
      "The Given Character  b is an Alphabet\n"
     ]
    }
   ],
   "source": [
    "#Question 20\n",
    "#  to check character is Alphabet or not for b\n",
    "ch = input(\"Please Enter Your Own Character : \")\n",
    "\n",
    "if((ch >= 'a' and ch <= 'z') or (ch >= 'A' and ch <= 'Z')):\n",
    "    print(\"The Given Character \", ch, \"is an Alphabet\")\n",
    "else:\n",
    "    print(\"The Given Character \", ch, \"is Not an Alphabet\")"
   ]
  },
  {
   "cell_type": "code",
   "execution_count": 6,
   "id": "8a5db220",
   "metadata": {},
   "outputs": [
    {
     "name": "stdout",
     "output_type": "stream",
     "text": [
      "Please Enter Your Own Character : *\n",
      "The Given Character  * is Not an Alphabet\n"
     ]
    }
   ],
   "source": [
    "#Question 20\n",
    "#Question to check character is Alphabet or not for *\n",
    "ch = input(\"Please Enter Your Own Character : \")\n",
    "\n",
    "if((ch >= 'a' and ch <= 'z') or (ch >= 'A' and ch <= 'Z')):\n",
    "    print(\"The Given Character \", ch, \"is an Alphabet\")\n",
    "else:\n",
    "    print(\"The Given Character \", ch, \"is Not an Alphabet\")"
   ]
  },
  {
   "cell_type": "code",
   "execution_count": 7,
   "id": "7fbb8cf1",
   "metadata": {},
   "outputs": [
    {
     "name": "stdout",
     "output_type": "stream",
     "text": [
      "The smallest words here are:\n",
      "Stat\n",
      "Math\n",
      "The length here is: \n",
      "4\n"
     ]
    }
   ],
   "source": [
    "#Question 21\n",
    "list=['Statistics','Stat','Mathematics','Math']\n",
    "print(\"The smallest words here are:\")\n",
    "for i in range(len(list)):\n",
    "    length=len(list[i])\n",
    "    \n",
    "    if(len(list[i])<len(list[i-1])):\n",
    "           print(list[i])\n",
    "\n",
    "print(\"The length here is: \")\n",
    "print(+len(list[i]))           "
   ]
  },
  {
   "cell_type": "code",
   "execution_count": 8,
   "id": "09be5316",
   "metadata": {},
   "outputs": [
    {
     "name": "stdout",
     "output_type": "stream",
     "text": [
      "Enter the character: a\n",
      "Vowel\n"
     ]
    }
   ],
   "source": [
    "#Question 22   #a\n",
    "l = input(\"Enter the character: \") \n",
    "if l.lower() in ('a', 'e', 'i', 'o', 'u'): \n",
    "    print(\"Vowel\") \n",
    "elif l.upper() in ('A', 'E', 'I', 'O', 'U'):\n",
    "    print(\"Vowel\") \n",
    "else: print(\"Consonant\")"
   ]
  },
  {
   "cell_type": "code",
   "execution_count": 9,
   "id": "99b3482e",
   "metadata": {},
   "outputs": [
    {
     "name": "stdout",
     "output_type": "stream",
     "text": [
      "Enter the character: f\n",
      "Consonant\n"
     ]
    }
   ],
   "source": [
    "#Question 22   #f\n",
    "l = input(\"Enter the character: \") \n",
    "if l.lower() in ('a', 'e', 'i', 'o', 'u'): \n",
    "    print(\"Vowel\") \n",
    "elif l.upper() in ('A', 'E', 'I', 'O', 'U'):\n",
    "    print(\"Vowel\") \n",
    "else: print(\"Consonant\")"
   ]
  },
  {
   "cell_type": "code",
   "execution_count": 10,
   "id": "8db96ae9",
   "metadata": {},
   "outputs": [
    {
     "name": "stdout",
     "output_type": "stream",
     "text": [
      "Enter the character: man\n",
      "Consonant\n"
     ]
    }
   ],
   "source": [
    "#Question 22   #man\n",
    "l = input(\"Enter the character: \") \n",
    "if l.lower() in ('a', 'e', 'i', 'o', 'u'): \n",
    "    print(\"Vowel\") \n",
    "elif l.upper() in ('A', 'E', 'I', 'O', 'U'):\n",
    "    print(\"Vowel\") \n",
    "else: print(\"Consonant\")"
   ]
  },
  {
   "cell_type": "code",
   "execution_count": 11,
   "id": "2c285459",
   "metadata": {},
   "outputs": [],
   "source": [
    "import matplotlib.pyplot as plt\n",
    "\n",
    "\n"
   ]
  },
  {
   "cell_type": "code",
   "execution_count": 12,
   "id": "a8a842a2",
   "metadata": {},
   "outputs": [
    {
     "data": {
      "text/plain": [
       "Text(0, 0.5, 'No.of students')"
      ]
     },
     "execution_count": 12,
     "metadata": {},
     "output_type": "execute_result"
    },
    {
     "data": {
      "image/png": "[encoded data removed]",
      "text/plain": [
       "<Figure size 432x288 with 1 Axes>"
      ]
     },
     "metadata": {
      "needs_background": "light"
     },
     "output_type": "display_data"
    }
   ],
   "source": [
    "#Question 23\n",
    "x=[2015,2016,2017,2018,2019,2020]\n",
    "y=[700,1200,900,800,950,1000]\n",
    "plt.plot(x,y)\n",
    "plt.xlabel('Year')\n",
    "plt.ylabel('No.of students')"
   ]
  },
  {
   "cell_type": "code",
   "execution_count": 13,
   "id": "433ac05a",
   "metadata": {},
   "outputs": [
    {
     "data": {
      "image/png": "[encoded data removed]",
      "text/plain": [
       "<Figure size 432x288 with 1 Axes>"
      ]
     },
     "metadata": {
      "needs_background": "light"
     },
     "output_type": "display_data"
    }
   ],
   "source": [
    "#Question 24  #a)\n",
    "X=[1,2,3,4,5,6]\n",
    "f=[1,2,2,8,9,1]\n",
    "plt.bar(X,f)\n",
    "plt.ylabel(\"f\")\n",
    "plt.title(\"X vs f\")\n",
    "plt.show()"
   ]
  },
  {
   "cell_type": "code",
   "execution_count": 14,
   "id": "b83f0fc6",
   "metadata": {},
   "outputs": [
    {
     "data": {
      "image/png": "[encoded data removed]",
      "text/plain": [
       "<Figure size 432x288 with 1 Axes>"
      ]
     },
     "metadata": {
      "needs_background": "light"
     },
     "output_type": "display_data"
    }
   ],
   "source": [
    "#Question 24 #b)\n",
    "X=[1,2,3,4,5,6]\n",
    "f=[4,2,7,0,3,1]\n",
    "plt.bar(X,f)\n",
    "plt.ylabel(\"f\")\n",
    "plt.title(\"X vs f\")\n",
    "plt.show()"
   ]
  },
  {
   "cell_type": "code",
   "execution_count": null,
   "id": "7fb8cc29",
   "metadata": {},
   "outputs": [],
   "source": []
  }
 ],
 "metadata": {
  "kernelspec": {
   "display_name": "Python 3 (ipykernel)",
   "language": "python",
   "name": "python3"
  },
  "language_info": {
   "codemirror_mode": {
    "name": "ipython",
    "version": 3
   },
   "file_extension": ".py",
   "mimetype": "text/x-python",
   "name": "python",
   "nbconvert_exporter": "python",
   "pygments_lexer": "ipython3",
   "version": "3.8.12"
  }
 },
 "nbformat": 4,
 "nbformat_minor": 5
}
