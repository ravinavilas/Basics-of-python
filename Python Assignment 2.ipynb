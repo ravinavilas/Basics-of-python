{
 "cells": [
  {
   "cell_type": "code",
   "execution_count": 4,
   "id": "df85558a",
   "metadata": {},
   "outputs": [
    {
     "name": "stdout",
     "output_type": "stream",
     "text": [
      "Enter the String to be Reversed python\n",
      "The Reversed String is nohtyp\n"
     ]
    }
   ],
   "source": [
    "#Question 1\n",
    "def rev(Inp):\n",
    " ReverseInp=Inp[::-1] # Slicing\n",
    " print (\"The Reversed String is\",ReverseInp) # Print the reversed string\n",
    "\n",
    "Stri=input(\"Enter the String to be Reversed \")\n",
    "rev(Stri)"
   ]
  },
  {
   "cell_type": "code",
   "execution_count": 1,
   "id": "29e65974",
   "metadata": {},
   "outputs": [
    {
     "name": "stdout",
     "output_type": "stream",
     "text": [
      "Enter the String to be Reversed PYTHON\n",
      "The Reversed String is NOHTYP\n"
     ]
    }
   ],
   "source": []
  },
  {
   "cell_type": "code",
   "execution_count": null,
   "id": "ff13ec03",
   "metadata": {},
   "outputs": [],
   "source": []
  }
 ],
 "metadata": {
  "kernelspec": {
   "display_name": "Python 3 (ipykernel)",
   "language": "python",
   "name": "python3"
  },
  "language_info": {
   "codemirror_mode": {
    "name": "ipython",
    "version": 3
   },
   "file_extension": ".py",
   "mimetype": "text/x-python",
   "name": "python",
   "nbconvert_exporter": "python",
   "pygments_lexer": "ipython3",
   "version": "3.8.12"
  }
 },
 "nbformat": 4,
 "nbformat_minor": 5
}
