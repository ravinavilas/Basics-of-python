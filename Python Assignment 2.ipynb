{
 "cells": [
  {
   "cell_type": "code",
   "execution_count": 4,
   "id": "df85558a",
   "metadata": {},
   "outputs": [
    {
     "name": "stdout",
     "output_type": "stream",
     "text": [
      "Enter the String to be Reversed python\n",
      "The Reversed String is nohtyp\n"
     ]
    }
   ],
   "source": [
    "#Question 1\n",
    "def rev(Inp):\n",
    " ReverseInp=Inp[::-1] # Slicing\n",
    " print (\"The Reversed String is\",ReverseInp) # Print the reversed string\n",
    "\n",
    "Stri=input(\"Enter the String to be Reversed \")\n",
    "rev(Stri)"
   ]
  },
  {
   "cell_type": "code",
   "execution_count": 1,
   "id": "29e65974",
   "metadata": {},
   "outputs": [
    {
     "name": "stdout",
     "output_type": "stream",
     "text": [
      "Enter four values to find minimum and maximum value separated by space: 2 3 4 5 \n",
      "The Maxmimum value from the input values is:  5\n",
      "The Minimum value from the input values is:  2\n"
     ]
    }
   ],
   "source": [
    "#Question 2\n",
    "def min_max(A,B,C,D):\n",
    "  print(\"The Maxmimum value from the input values is: \", max(A,B,C,D))\n",
    "  print(\"The Minimum value from the input values is: \", min(A,B,C,D))\n",
    "  \n",
    "p, q, r, s = input(\"Enter four values to find minimum and maximum value separated by space: \").split()\n",
    "# Alternative  \n",
    "# p = input(\"Enter the first value: \")\n",
    "# q = input(\"Enter the second value: \")\n",
    "# r = input(\"Enter the third value: \")\n",
    "# s = input(\"Enter the fourth value: \")\n",
    "\n",
    "min_max(p,q,r,s)"
   ]
  },
  {
   "cell_type": "code",
   "execution_count": 2,
   "id": "ff13ec03",
   "metadata": {},
   "outputs": [
    {
     "name": "stdout",
     "output_type": "stream",
     "text": [
      "Enter four values to find sum of them separated by space: 1 2 3 4\n",
      "The Sum of the input vlaues is:  10.0\n"
     ]
    }
   ],
   "source": [
    "#Question 3 \n",
    "def Sum4(A,B,C,D):\n",
    "  sum = A+B+C+D\n",
    "  print(\"The Sum of the input vlaues is: \", sum)\n",
    "\n",
    "p, q, r, s = list(map(float, input(\"Enter four values to find sum of them separated by space: \").split()))\n",
    "# Alternative  \n",
    "# p = float(input(\"Enter the first value: \"))\n",
    "# q = float(input(\"Enter the second value: \"))\n",
    "# r = float(input(\"Enter the third value: \"))\n",
    "# s = float(input(\"Enter the fourth value: \"))\n",
    "\n",
    "Sum4 (p,q,r,s)"
   ]
  },
  {
   "cell_type": "code",
   "execution_count": 4,
   "id": "3f49fb4e",
   "metadata": {},
   "outputs": [
    {
     "name": "stdout",
     "output_type": "stream",
     "text": [
      "The Number of Local Variables in the given User Defined Function is:  5\n"
     ]
    }
   ],
   "source": [
    "#Question 4\n",
    "## User_Defined_Function_Name.__code__.co_nlocals\n",
    "print(\"The Number of Local Variables in the given User Defined Function is: \" ,Sum4.__code__.co_nlocals)"
   ]
  },
  {
   "cell_type": "code",
   "execution_count": 7,
   "id": "c2efc5b8",
   "metadata": {},
   "outputs": [
    {
     "name": "stdout",
     "output_type": "stream",
     "text": [
      "Enter a list of 8 elements separated by space: 65 55 77 88 99 100 34 22\n",
      "The Even Numbers are : \n",
      "88.0 100.0 34.0 22.0 "
     ]
    }
   ],
   "source": [
    "#Question 5\n",
    "list1 = list(map(float, input(\"Enter a list of 8 elements separated by space: \").split()))\n",
    "L = len(list1)\n",
    "\n",
    "if (L==8):\n",
    "    print(\"The Even Numbers are : \")\n",
    "    for num in list1:\n",
    "  \n",
    "        if (num % 2 == 0):\n",
    "            print(num, end=\" \")\n",
    "else: \n",
    "    print(\"There are less than 8 elements in the list\")"
   ]
  },
  {
   "cell_type": "code",
   "execution_count": null,
   "id": "c5fe6d8c",
   "metadata": {},
   "outputs": [],
   "source": []
  }
 ],
 "metadata": {
  "kernelspec": {
   "display_name": "Python 3 (ipykernel)",
   "language": "python",
   "name": "python3"
  },
  "language_info": {
   "codemirror_mode": {
    "name": "ipython",
    "version": 3
   },
   "file_extension": ".py",
   "mimetype": "text/x-python",
   "name": "python",
   "nbconvert_exporter": "python",
   "pygments_lexer": "ipython3",
   "version": "3.8.12"
  }
 },
 "nbformat": 4,
 "nbformat_minor": 5
}
