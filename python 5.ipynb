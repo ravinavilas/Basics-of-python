{
 "cells": [
  {
   "cell_type": "code",
   "execution_count": 1,
   "id": "07e0a482",
   "metadata": {},
   "outputs": [
    {
     "name": "stdout",
     "output_type": "stream",
     "text": [
      "s\n",
      "not in name\n"
     ]
    }
   ],
   "source": [
    "name = ('a',\"b\",\"c\",\"d\",\"e\")\n",
    "a=input()\n",
    "if a in name:\n",
    "    print(\"is in name\")\n",
    "else:\n",
    "    print(\"not in name\")"
   ]
  },
  {
   "cell_type": "code",
   "execution_count": 2,
   "id": "318c513b",
   "metadata": {},
   "outputs": [
    {
     "name": "stdout",
     "output_type": "stream",
     "text": [
      "a is not less than b\n",
      "a is less than c\n",
      "a is not greater than d\n"
     ]
    }
   ],
   "source": [
    "a=10\n",
    "b=20\n",
    "c=30\n",
    "d=40\n",
    "if a>b:\n",
    "    print(\"b is not less than b\")\n",
    "else:\n",
    "    print(\"a is not less than b\")\n",
    "if a<c:\n",
    "    print(\"a is less than c\")\n",
    "else:\n",
    "    (\"a is not greater than c\")\n",
    "if a<d:\n",
    "    print(\"a is not greater than d\")\n",
    "else:\n",
    "    print(\"a is greater thAN d\")"
   ]
  },
  {
   "cell_type": "code",
   "execution_count": null,
   "id": "78a10ca3",
   "metadata": {},
   "outputs": [],
   "source": [
    "science_marks=90\n",
    "commarks=60\n",
    "artsmarks=40\n"
   ]
  },
  {
   "cell_type": "code",
   "execution_count": 7,
   "id": "5bc3dcb2",
   "metadata": {},
   "outputs": [
    {
     "name": "stdout",
     "output_type": "stream",
     "text": [
      "80\n",
      "we will take arts\n"
     ]
    }
   ],
   "source": [
    "marks=[\"90\",\"80\",\"70\"]\n",
    "Marks=input()\n",
    "if marks==90:\n",
    "    print(\"We will take science\")\n",
    "elif marks==70:\n",
    "    print(\"we will take commerce\")\n",
    "else:\n",
    "    print(\"we will take arts\")\n"
   ]
  },
  {
   "cell_type": "code",
   "execution_count": 2,
   "id": "1c4441b4",
   "metadata": {},
   "outputs": [
    {
     "name": "stdout",
     "output_type": "stream",
     "text": [
      "negative number\n"
     ]
    }
   ],
   "source": [
    "num=-100\n",
    "if num>=0:\n",
    "    if num==0:\n",
    "        print(\"zero\")\n",
    "    else:\n",
    "        print(\"positive number is nested\")\n",
    "else:\n",
    "    print(\"negative number\")"
   ]
  },
  {
   "cell_type": "code",
   "execution_count": 6,
   "id": "e50cf8fd",
   "metadata": {},
   "outputs": [
    {
     "name": "stdout",
     "output_type": "stream",
     "text": [
      "11\n",
      "even\n"
     ]
    }
   ],
   "source": [
    "b=int(input())\n",
    "if b==1:\n",
    "    if b>10:\n",
    "        print(\"b is a 2 digit number\")\n",
    "    else:\n",
    "        print(\"b is single digit odd number\")\n",
    "else:\n",
    "    print(\"even\")"
   ]
  },
  {
   "cell_type": "code",
   "execution_count": null,
   "id": "431acde7",
   "metadata": {},
   "outputs": [],
   "source": []
  },
  {
   "cell_type": "code",
   "execution_count": null,
   "id": "88a6a667",
   "metadata": {},
   "outputs": [],
   "source": []
  }
 ],
 "metadata": {
  "kernelspec": {
   "display_name": "Python 3 (ipykernel)",
   "language": "python",
   "name": "python3"
  },
  "language_info": {
   "codemirror_mode": {
    "name": "ipython",
    "version": 3
   },
   "file_extension": ".py",
   "mimetype": "text/x-python",
   "name": "python",
   "nbconvert_exporter": "python",
   "pygments_lexer": "ipython3",
   "version": "3.8.12"
  }
 },
 "nbformat": 4,
 "nbformat_minor": 5
}
