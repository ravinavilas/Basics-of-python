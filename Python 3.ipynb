{
 "cells": [
  {
   "cell_type": "code",
   "execution_count": 1,
   "id": "d4a6f8cb",
   "metadata": {},
   "outputs": [
    {
     "name": "stdout",
     "output_type": "stream",
     "text": [
      "c\n"
     ]
    }
   ],
   "source": [
    "#Print the tenth element of the string \n",
    "Name=\"Michael Jackson\"\n",
    "print(Name[10])"
   ]
  },
  {
   "cell_type": "code",
   "execution_count": 3,
   "id": "0232a932",
   "metadata": {},
   "outputs": [
    {
     "name": "stdout",
     "output_type": "stream",
     "text": [
      "M\n"
     ]
    }
   ],
   "source": [
    "print(Name[0])"
   ]
  },
  {
   "cell_type": "code",
   "execution_count": 5,
   "id": "0e81ecb5",
   "metadata": {},
   "outputs": [
    {
     "name": "stdout",
     "output_type": "stream",
     "text": [
      "n\n"
     ]
    }
   ],
   "source": [
    "print(Name[-1])"
   ]
  },
  {
   "cell_type": "code",
   "execution_count": 1,
   "id": "86553baa",
   "metadata": {},
   "outputs": [
    {
     "name": "stdout",
     "output_type": "stream",
     "text": [
      "Demo for learning git\n"
     ]
    }
   ],
   "source": [
    "print(\"Demo for learning git\")"
   ]
  },
  {
   "cell_type": "code",
   "execution_count": 2,
   "id": "7db1a7d0",
   "metadata": {},
   "outputs": [
    {
     "name": "stdout",
     "output_type": "stream",
     "text": [
      "True\n",
      "False\n",
      "False\n"
     ]
    }
   ],
   "source": [
    "print(10 > 9) \n",
    "print(10 == 9) \n",
    "print(10 < 9)"
   ]
  },
  {
   "cell_type": "code",
   "execution_count": 3,
   "id": "ecf03770",
   "metadata": {},
   "outputs": [
    {
     "name": "stdout",
     "output_type": "stream",
     "text": [
      "True\n",
      "False\n"
     ]
    }
   ],
   "source": [
    "print(bool(\"Hello\")) \n",
    "print(bool())"
   ]
  },
  {
   "cell_type": "code",
   "execution_count": 4,
   "id": "790da2e7",
   "metadata": {},
   "outputs": [
    {
     "name": "stdout",
     "output_type": "stream",
     "text": [
      "True\n",
      "True\n"
     ]
    }
   ],
   "source": [
    "x = \"Hello\" \n",
    "y = 15 \n",
    "print(bool(x))\n",
    "print(bool(y))"
   ]
  },
  {
   "cell_type": "code",
   "execution_count": 5,
   "id": "b38dcdc8",
   "metadata": {},
   "outputs": [
    {
     "name": "stdout",
     "output_type": "stream",
     "text": [
      "False\n",
      "False\n",
      "False\n",
      "False\n",
      "False\n",
      "False\n",
      "False\n"
     ]
    }
   ],
   "source": [
    "print(bool(False)) \n",
    "print(bool(None))\n",
    "print(bool(0)) \n",
    "print(bool(\"\")) \n",
    "print(bool(())) \n",
    "print(bool([])) \n",
    "print(bool({}))"
   ]
  },
  {
   "cell_type": "code",
   "execution_count": 6,
   "id": "b39cebb1",
   "metadata": {},
   "outputs": [
    {
     "name": "stdout",
     "output_type": "stream",
     "text": [
      "False\n",
      "True\n",
      "True\n",
      "False\n",
      "True\n",
      "False\n"
     ]
    }
   ],
   "source": [
    "x,y = 15, 9 \n",
    "print(x==y) \n",
    "print(x!=y) \n",
    "print(x>y) \n",
    "print(x<y)\n",
    "print(x>=y) \n",
    "print(x<=y)"
   ]
  },
  {
   "cell_type": "code",
   "execution_count": 7,
   "id": "979b0c38",
   "metadata": {},
   "outputs": [
    {
     "name": "stdout",
     "output_type": "stream",
     "text": [
      "False\n",
      "True\n",
      "True\n",
      "True\n"
     ]
    }
   ],
   "source": [
    "x=8 \n",
    "print(x < 5 and x < 10) \n",
    "print(x < 5 or x < 10)\n",
    "print(not(x>10))\n",
    "print(not(x < 5 and x < 10))"
   ]
  },
  {
   "cell_type": "code",
   "execution_count": 8,
   "id": "3d5b5748",
   "metadata": {},
   "outputs": [
    {
     "name": "stdout",
     "output_type": "stream",
     "text": [
      "False\n",
      "True\n"
     ]
    }
   ],
   "source": [
    "x, y = 2,10 \n",
    "print(x is y) \n",
    "print(x is not y)"
   ]
  },
  {
   "cell_type": "code",
   "execution_count": 9,
   "id": "17288958",
   "metadata": {},
   "outputs": [
    {
     "name": "stdout",
     "output_type": "stream",
     "text": [
      "True\n",
      "False\n"
     ]
    }
   ],
   "source": [
    "x, y = 'Hi', \"Hi\" \n",
    "print(x is y) \n",
    "print(x is not y)"
   ]
  },
  {
   "cell_type": "code",
   "execution_count": 10,
   "id": "5fafcb8d",
   "metadata": {},
   "outputs": [
    {
     "data": {
      "text/plain": [
       "'Have a good day!'"
      ]
     },
     "execution_count": 10,
     "metadata": {},
     "output_type": "execute_result"
    }
   ],
   "source": [
    "x=\"Have a good day!\"\n",
    "x"
   ]
  },
  {
   "cell_type": "code",
   "execution_count": 11,
   "id": "2c14eb28",
   "metadata": {},
   "outputs": [
    {
     "name": "stdout",
     "output_type": "stream",
     "text": [
      "True\n"
     ]
    }
   ],
   "source": [
    "a = \"is not in Pune\" \n",
    "print('Pune' in a)"
   ]
  },
  {
   "cell_type": "code",
   "execution_count": 12,
   "id": "375fc38f",
   "metadata": {},
   "outputs": [
    {
     "name": "stdout",
     "output_type": "stream",
     "text": [
      "Like\n",
      "Like\n"
     ]
    }
   ],
   "source": [
    "a=\"I Like Python\" \n",
    "print(a[-11:-7]) \n",
    "print(a[2:6])"
   ]
  },
  {
   "cell_type": "code",
   "execution_count": null,
   "id": "aea71177",
   "metadata": {},
   "outputs": [],
   "source": []
  }
 ],
 "metadata": {
  "kernelspec": {
   "display_name": "Python 3 (ipykernel)",
   "language": "python",
   "name": "python3"
  },
  "language_info": {
   "codemirror_mode": {
    "name": "ipython",
    "version": 3
   },
   "file_extension": ".py",
   "mimetype": "text/x-python",
   "name": "python",
   "nbconvert_exporter": "python",
   "pygments_lexer": "ipython3",
   "version": "3.8.12"
  }
 },
 "nbformat": 4,
 "nbformat_minor": 5
}
