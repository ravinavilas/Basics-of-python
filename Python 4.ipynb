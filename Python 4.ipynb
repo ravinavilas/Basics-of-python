{
 "cells": [
  {
   "cell_type": "code",
   "execution_count": 1,
   "id": "e1f7f0e0",
   "metadata": {},
   "outputs": [
    {
     "name": "stdout",
     "output_type": "stream",
     "text": [
      "<class 'list'>\n",
      "['sanket', 'kiran']\n",
      "<class 'str'>\n",
      "ganesh\n",
      "<class 'int'>\n",
      "200\n"
     ]
    }
   ],
   "source": [
    "b = 'ganesh'\n",
    "c = 200\n",
    "a = [\"sanket\",'kiran']\n",
    "print(type(a))\n",
    "print(a)\n",
    "print(type(b))\n",
    "print(b)\n",
    "print(type(c))\n",
    "print(c)"
   ]
  },
  {
   "cell_type": "code",
   "execution_count": 2,
   "id": "93d78237",
   "metadata": {},
   "outputs": [
    {
     "name": "stdout",
     "output_type": "stream",
     "text": [
      "['Raj', 'Arjun', 'Priya', 'Kishor', 'Anu']\n",
      "<class 'list'>\n"
     ]
    }
   ],
   "source": [
    "names = ['Raj', 'Arjun', 'Priya','Kishor','Anu']\n",
    "print(names)\n",
    "print(type(names))"
   ]
  },
  {
   "cell_type": "code",
   "execution_count": 3,
   "id": "d29ca5d0",
   "metadata": {},
   "outputs": [
    {
     "name": "stdout",
     "output_type": "stream",
     "text": [
      "['Raj', 'Arjun', 'Priya']\n",
      "['Priya', 'Kishor', 'Anu']\n"
     ]
    }
   ],
   "source": [
    "names\n",
    "print(names[:3] )\n",
    "print(names[2:]) "
   ]
  },
  {
   "cell_type": "code",
   "execution_count": 4,
   "id": "06280798",
   "metadata": {},
   "outputs": [
    {
     "name": "stdout",
     "output_type": "stream",
     "text": [
      "Kishor\n",
      "['Priya', 'Kishor', 'Anu']\n",
      "['Raj', 'Arjun']\n",
      "['Arjun', 'Priya']\n"
     ]
    }
   ],
   "source": [
    "print(names[3])\n",
    "print(names[2:])\n",
    "print(names[:2])\n",
    "print(names[1:3])"
   ]
  },
  {
   "cell_type": "code",
   "execution_count": 5,
   "id": "8e7d4379",
   "metadata": {},
   "outputs": [
    {
     "name": "stdout",
     "output_type": "stream",
     "text": [
      "['Raj', 'Arjun', 'Priya', 'Kishor', 'Anu']\n",
      "['Raj', 'Arjun', 'Priya', 'joy', 'Anu']\n"
     ]
    }
   ],
   "source": [
    "print(names)\n",
    "names[3]=\"joy\"\n",
    "print(names)"
   ]
  },
  {
   "cell_type": "code",
   "execution_count": 6,
   "id": "7c3cba2c",
   "metadata": {},
   "outputs": [
    {
     "name": "stdout",
     "output_type": "stream",
     "text": [
      "Raj\n",
      "Arjun\n",
      "Priya\n",
      "joy\n",
      "Anu\n"
     ]
    }
   ],
   "source": [
    "# Looping through lists\n",
    "for j in names:\n",
    "    print(j)#+'5'+j)"
   ]
  },
  {
   "cell_type": "code",
   "execution_count": 7,
   "id": "72fed549",
   "metadata": {},
   "outputs": [
    {
     "name": "stdout",
     "output_type": "stream",
     "text": [
      "[1, 2, 3, ['a', 'b', [5, 6]]]\n"
     ]
    }
   ],
   "source": [
    "# Nested list\n",
    "mylist=[1,2,3,['a','b',[5,6]]]\n",
    "print(mylist)"
   ]
  },
  {
   "cell_type": "code",
   "execution_count": 8,
   "id": "a13972c7",
   "metadata": {},
   "outputs": [
    {
     "name": "stdout",
     "output_type": "stream",
     "text": [
      "['Raj', 'Arjun', 'Priya', 'joy', 'Anu']\n",
      "['Raj', 'Arjun', 'Priya', 'joy', 'Anu', 'Ravina']\n"
     ]
    }
   ],
   "source": [
    "# append(): \n",
    "print(names)\n",
    "names.append(\"Ravina\")\n",
    "print(names)"
   ]
  },
  {
   "cell_type": "code",
   "execution_count": 9,
   "id": "b74c0171",
   "metadata": {},
   "outputs": [
    {
     "name": "stdout",
     "output_type": "stream",
     "text": [
      "['Raj', 'Arjun', 'Priya', 'joy', 'Anu', 'Ravina']\n",
      "[]\n"
     ]
    }
   ],
   "source": [
    "print(names)\n",
    "names.clear()\n",
    "print(names)\n"
   ]
  },
  {
   "cell_type": "code",
   "execution_count": 10,
   "id": "d05ab20a",
   "metadata": {},
   "outputs": [
    {
     "name": "stdout",
     "output_type": "stream",
     "text": [
      "['Raj', 'Arjun', 'Priya', 'Kishor', 'Anu']\n"
     ]
    }
   ],
   "source": [
    "names = ['Raj', 'Arjun', 'Priya','Kishor','Anu']\n",
    "Names1=names.copy()\n",
    "print(Names1)"
   ]
  },
  {
   "cell_type": "code",
   "execution_count": 11,
   "id": "f3e38c82",
   "metadata": {},
   "outputs": [
    {
     "name": "stdout",
     "output_type": "stream",
     "text": [
      "2\n"
     ]
    }
   ],
   "source": [
    "names.append(\"Raj\")\n",
    "x=names.count('Raj')\n",
    "print(x)"
   ]
  },
  {
   "cell_type": "code",
   "execution_count": 14,
   "id": "39feaa3c",
   "metadata": {},
   "outputs": [
    {
     "name": "stdout",
     "output_type": "stream",
     "text": [
      "['Raj', 'Arjun', 'Priya', 'Kishor', 'Anu', 'Raj', 'Ford', 'BMW', 'Volvo']\n"
     ]
    }
   ],
   "source": [
    "cars = ['Ford', 'BMW', 'Volvo']\n",
    "names.extend(cars)\n",
    "print(names)\n"
   ]
  },
  {
   "cell_type": "code",
   "execution_count": 15,
   "id": "5d4e01c6",
   "metadata": {},
   "outputs": [
    {
     "data": {
      "text/plain": [
       "4"
      ]
     },
     "execution_count": 15,
     "metadata": {},
     "output_type": "execute_result"
    }
   ],
   "source": [
    "x=names.index('Anu')\n",
    "x"
   ]
  },
  {
   "cell_type": "code",
   "execution_count": 17,
   "id": "5e7fcc58",
   "metadata": {},
   "outputs": [
    {
     "name": "stdout",
     "output_type": "stream",
     "text": [
      "['Raj', 'Arjun', 'Audi', 'Priya', 'Kishor', 'Anu', 'Raj', 'Ford', 'BMW', 'Volvo']\n"
     ]
    }
   ],
   "source": [
    "names.insert(2,'Audi')\n",
    "print(names)"
   ]
  },
  {
   "cell_type": "code",
   "execution_count": 18,
   "id": "74807a9b",
   "metadata": {},
   "outputs": [
    {
     "name": "stdout",
     "output_type": "stream",
     "text": [
      "['Audi', 'BMW', 'Ford']\n"
     ]
    }
   ],
   "source": [
    "new_list=list(('Audi',\"BMW\",'Ford'))\n",
    "print(new_list)"
   ]
  },
  {
   "cell_type": "code",
   "execution_count": 19,
   "id": "ac39ffa2",
   "metadata": {},
   "outputs": [
    {
     "name": "stdout",
     "output_type": "stream",
     "text": [
      "['Raj', 'Arjun', 'Priya', 'Kishor', 'Anu', 'Raj', 'Ford', 'BMW', 'Volvo']\n",
      "9\n"
     ]
    }
   ],
   "source": [
    "names.pop(2)\n",
    "#print(names.pop(2))\n",
    "print(names)\n",
    "#names.pop(2)\n",
    "#print(names)\n",
    "print(len(names))"
   ]
  },
  {
   "cell_type": "code",
   "execution_count": 20,
   "id": "3c1e63b6",
   "metadata": {},
   "outputs": [
    {
     "name": "stdout",
     "output_type": "stream",
     "text": [
      "['Arjun', 'Priya', 'Kishor', 'Anu', 'Raj', 'Ford', 'BMW', 'Volvo']\n"
     ]
    }
   ],
   "source": [
    "names.remove('Raj')\n",
    "print(names)"
   ]
  },
  {
   "cell_type": "code",
   "execution_count": 21,
   "id": "c98c098a",
   "metadata": {},
   "outputs": [
    {
     "name": "stdout",
     "output_type": "stream",
     "text": [
      "['Volvo', 'BMW', 'Ford', 'Raj', 'Anu', 'Kishor', 'Priya', 'Arjun']\n"
     ]
    }
   ],
   "source": [
    "names.reverse()\n",
    "print(names)"
   ]
  },
  {
   "cell_type": "code",
   "execution_count": 22,
   "id": "0dffb05c",
   "metadata": {},
   "outputs": [
    {
     "name": "stdout",
     "output_type": "stream",
     "text": [
      "['Anu', 'Arjun', 'BMW', 'Ford', 'Kishor', 'Priya', 'Raj', 'Volvo']\n"
     ]
    }
   ],
   "source": [
    "names.sort()\n",
    "print(names)"
   ]
  },
  {
   "cell_type": "code",
   "execution_count": null,
   "id": "e72b0e37",
   "metadata": {},
   "outputs": [],
   "source": []
  }
 ],
 "metadata": {
  "kernelspec": {
   "display_name": "Python 3 (ipykernel)",
   "language": "python",
   "name": "python3"
  },
  "language_info": {
   "codemirror_mode": {
    "name": "ipython",
    "version": 3
   },
   "file_extension": ".py",
   "mimetype": "text/x-python",
   "name": "python",
   "nbconvert_exporter": "python",
   "pygments_lexer": "ipython3",
   "version": "3.8.12"
  }
 },
 "nbformat": 4,
 "nbformat_minor": 5
}
