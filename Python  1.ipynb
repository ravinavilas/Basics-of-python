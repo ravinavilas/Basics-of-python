{
 "cells": [
  {
   "cell_type": "code",
   "execution_count": 1,
   "id": "3fbc784e",
   "metadata": {},
   "outputs": [
    {
     "data": {
      "text/plain": [
       "'Ravina'"
      ]
     },
     "execution_count": 1,
     "metadata": {},
     "output_type": "execute_result"
    }
   ],
   "source": [
    "a=\"Ravina\"\n",
    "a"
   ]
  },
  {
   "cell_type": "code",
   "execution_count": 2,
   "id": "abb6994a",
   "metadata": {},
   "outputs": [
    {
     "data": {
      "text/plain": [
       "'3'"
      ]
     },
     "execution_count": 2,
     "metadata": {},
     "output_type": "execute_result"
    }
   ],
   "source": [
    "b=3\n",
    "c=\"3\"\n",
    "b\n",
    "c\n",
    "#3 is number \n",
    "#\"3\" is a string"
   ]
  },
  {
   "cell_type": "code",
   "execution_count": 1,
   "id": "c18637d6",
   "metadata": {},
   "outputs": [
    {
     "data": {
      "text/plain": [
       "'DSFVGVGFCGFCHVHGCFCFG'"
      ]
     },
     "execution_count": 1,
     "metadata": {},
     "output_type": "execute_result"
    }
   ],
   "source": [
    "\"DSFVGVGFCGFCHVHGCFCFG\""
   ]
  },
  {
   "cell_type": "code",
   "execution_count": 2,
   "id": "1bf0997a",
   "metadata": {},
   "outputs": [],
   "source": [
    "A_=1\n",
    "a_=2\n",
    "a=3\n",
    "A=4"
   ]
  },
  {
   "cell_type": "code",
   "execution_count": 3,
   "id": "a028ae81",
   "metadata": {},
   "outputs": [
    {
     "data": {
      "text/plain": [
       "3"
      ]
     },
     "execution_count": 3,
     "metadata": {},
     "output_type": "execute_result"
    }
   ],
   "source": [
    "a"
   ]
  },
  {
   "cell_type": "code",
   "execution_count": null,
   "id": "5c73f8c1",
   "metadata": {},
   "outputs": [],
   "source": []
  },
  {
   "cell_type": "code",
   "execution_count": 3,
   "id": "cb7a2fc4",
   "metadata": {},
   "outputs": [
    {
     "data": {
      "text/plain": [
       "3.142857142857143"
      ]
     },
     "execution_count": 3,
     "metadata": {},
     "output_type": "execute_result"
    }
   ],
   "source": [
    "s=22/7\n",
    "s"
   ]
  },
  {
   "cell_type": "code",
   "execution_count": 4,
   "id": "a4391e89",
   "metadata": {},
   "outputs": [
    {
     "name": "stdout",
     "output_type": "stream",
     "text": [
      "Addition= 15\n",
      "Subtraction= 5\n",
      "Multiplication= 50\n",
      "Division= 2.0\n",
      "Power= 100000\n",
      "Modulus= 0\n",
      "Floor Division= 2\n"
     ]
    }
   ],
   "source": [
    "x,y=10,5\n",
    "print(\"Addition=\",x+y)\n",
    "print(\"Subtraction=\",x-y)\n",
    "print(\"Multiplication=\",x*y)\n",
    "print(\"Division=\",x/y)\n",
    "print(\"Power=\",x**y)\n",
    "print(\"Modulus=\",x%y)\n",
    "print(\"Floor Division=\",x//y)\n",
    "\n",
    "\n",
    "\n"
   ]
  },
  {
   "cell_type": "code",
   "execution_count": 5,
   "id": "d76279ed",
   "metadata": {},
   "outputs": [
    {
     "name": "stdout",
     "output_type": "stream",
     "text": [
      "sqrt= 3.142857142857143\n"
     ]
    }
   ],
   "source": [
    "print(\"sqrt=\",s)"
   ]
  },
  {
   "cell_type": "code",
   "execution_count": 4,
   "id": "e83e4021",
   "metadata": {},
   "outputs": [
    {
     "name": "stdout",
     "output_type": "stream",
     "text": [
      "orange\n",
      "banana\n",
      "grapes\n",
      "kiwi\n",
      "melon\n",
      "jackfruit\n"
     ]
    }
   ],
   "source": [
    "x,y,z,a,b,c=\"orange\",\"banana\",\"grapes\",\"kiwi\",\"melon\",\"jackfruit\"\n",
    "print(x)\n",
    "print(y)\n",
    "print(z)\n",
    "print(a)\n",
    "print(b)\n",
    "print(c)"
   ]
  },
  {
   "cell_type": "code",
   "execution_count": null,
   "id": "6cc9f7cd",
   "metadata": {},
   "outputs": [],
   "source": []
  }
 ],
 "metadata": {
  "kernelspec": {
   "display_name": "Python 3 (ipykernel)",
   "language": "python",
   "name": "python3"
  },
  "language_info": {
   "codemirror_mode": {
    "name": "ipython",
    "version": 3
   },
   "file_extension": ".py",
   "mimetype": "text/x-python",
   "name": "python",
   "nbconvert_exporter": "python",
   "pygments_lexer": "ipython3",
   "version": "3.8.12"
  }
 },
 "nbformat": 4,
 "nbformat_minor": 5
}
